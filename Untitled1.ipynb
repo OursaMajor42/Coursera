{
  "metadata": {
    "language_info": {
      "codemirror_mode": {
        "name": "python",
        "version": 3
      },
      "file_extension": ".py",
      "mimetype": "text/x-python",
      "name": "python",
      "nbconvert_exporter": "python",
      "pygments_lexer": "ipython3",
      "version": "3.8"
    },
    "kernelspec": {
      "name": "python",
      "display_name": "Pyolite",
      "language": "python"
    }
  },
  "nbformat_minor": 4,
  "nbformat": 4,
  "cells": [
    {
      "cell_type": "markdown",
      "source": "# This is the title of the Notebook",
      "metadata": {}
    },
    {
      "cell_type": "markdown",
      "source": "This is a markdown cell for an introduciton",
      "metadata": {}
    },
    {
      "cell_type": "markdown",
      "source": "This is a list of common languages :\n* Java\n* Python\n* R",
      "metadata": {}
    },
    {
      "cell_type": "markdown",
      "source": "This is a list of libraries:\n* Numpy\n* Pandas",
      "metadata": {}
    },
    {
      "cell_type": "markdown",
      "source": "This is a table of data science tools :\n|  Name | Number |\n| -------------| ------ |\n| tool1 | 1 |\n| tool2 | 2 |\n| tool3 | 3 |",
      "metadata": {}
    },
    {
      "cell_type": "markdown",
      "source": "This is a markdown cell introducing arithmetic expression examples : 1x1 or 2+20",
      "metadata": {}
    },
    {
      "cell_type": "code",
      "source": "2*2",
      "metadata": {
        "trusted": true
      },
      "execution_count": 3,
      "outputs": [
        {
          "execution_count": 3,
          "output_type": "execute_result",
          "data": {
            "text/plain": "4"
          },
          "metadata": {}
        }
      ]
    },
    {
      "cell_type": "code",
      "source": "minutes=120\nhours=minutes//60\nprint(hours)",
      "metadata": {
        "trusted": true
      },
      "execution_count": 7,
      "outputs": [
        {
          "name": "stdout",
          "text": "2\n",
          "output_type": "stream"
        }
      ]
    },
    {
      "cell_type": "markdown",
      "source": "This a markdown cell to list Objectives :\n* Obj1\n* obj 2\n* obj 3",
      "metadata": {}
    },
    {
      "cell_type": "markdown",
      "source": "This a markdown cell to indicate the Author’s name",
      "metadata": {}
    },
    {
      "cell_type": "code",
      "source": "",
      "metadata": {},
      "execution_count": null,
      "outputs": []
    }
  ]
}